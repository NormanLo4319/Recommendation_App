{
 "cells": [
  {
   "cell_type": "markdown",
   "metadata": {},
   "source": [
    "## Making Recommendations Based on Correlation"
   ]
  },
  {
   "cell_type": "code",
   "execution_count": 1,
   "metadata": {},
   "outputs": [],
   "source": [
    "# Import Dependencies\n",
    "import pandas as pd\n",
    "import numpy as np"
   ]
  },
  {
   "cell_type": "markdown",
   "metadata": {},
   "source": [
    "These datasets are hosted on: https://archive.ics.uci.edu/ml/datasets/Restaurant+%26+consumer+data\n",
    "\n",
    "They were originally published by: Blanca Vargas-Govea, Juan Gabriel GonzÃ¡lez-Serna, Rafael Ponce-MedellÃ­n. Effects of relevant contextual features in the performance of a restaurant recommender system. In RecSysâ€™11: Workshop on Context Aware Recommender Systems (CARS-2011), Chicago, IL, USA, October 23, 2011."
   ]
  },
  {
   "cell_type": "code",
   "execution_count": null,
   "metadata": {},
   "outputs": [],
   "source": [
    "# Importing the data set\n",
    "rating_df = pd.read_csv('./data/rating_final.csv')\n",
    "cuisine_df = pd.read_csv('./data/chefmozcuisine.csv')\n",
    "geodata = pd.read_csv('./data/geoplaces.csv', endoding='mbcs')"
   ]
  },
  {
   "cell_type": "code",
   "execution_count": null,
   "metadata": {},
   "outputs": [],
   "source": [
    "rating_df.head()"
   ]
  },
  {
   "cell_type": "code",
   "execution_count": null,
   "metadata": {},
   "outputs": [],
   "source": [
    "cuisine_df.head()"
   ]
  },
  {
   "cell_type": "code",
   "execution_count": null,
   "metadata": {},
   "outputs": [],
   "source": [
    "geodata.head()"
   ]
  },
  {
   "cell_type": "code",
   "execution_count": null,
   "metadata": {},
   "outputs": [],
   "source": [
    "# Extract just the placeID and place names from geodata dataframe\n",
    "places = geodata[['placeID', 'name']]\n",
    "places.head()"
   ]
  },
  {
   "cell_type": "markdown",
   "metadata": {},
   "source": [
    "### Grouping and Ranking Data"
   ]
  },
  {
   "cell_type": "code",
   "execution_count": null,
   "metadata": {},
   "outputs": [],
   "source": [
    "# Calculate the mean rating for each placeID\n",
    "rating = pd.DataFrame(rating_df.groupby('placeID')['rating'].mean())\n",
    "rating.head()"
   ]
  },
  {
   "cell_type": "code",
   "execution_count": null,
   "metadata": {},
   "outputs": [],
   "source": [
    "# Calculate the count of ratings and assign to the dataframe\n",
    "rating['rating_count'] = pd.DataFrame(rating.groupby('placeID')['rating'].count())\n",
    "rating.head()"
   ]
  },
  {
   "cell_type": "code",
   "execution_count": null,
   "metadata": {},
   "outputs": [],
   "source": [
    "# Print description of the data frame\n",
    "rating.describe()"
   ]
  },
  {
   "cell_type": "code",
   "execution_count": null,
   "metadata": {},
   "outputs": [],
   "source": [
    "# Sort the data frame based on the count of rating\n",
    "rating.sort_values('rating_count', ascending=False).head()"
   ]
  },
  {
   "cell_type": "code",
   "execution_count": null,
   "metadata": {},
   "outputs": [],
   "source": [
    "# Check the name of the business\n",
    "places[places['placeID']==135085]"
   ]
  },
  {
   "cell_type": "code",
   "execution_count": null,
   "metadata": {},
   "outputs": [],
   "source": [
    "# Check the cuisine of the business\n",
    "cuisine[cuisine['placeID']==135085]"
   ]
  },
  {
   "cell_type": "markdown",
   "metadata": {},
   "source": [
    "### Preparing Data for Analysis"
   ]
  },
  {
   "cell_type": "code",
   "execution_count": null,
   "metadata": {},
   "outputs": [],
   "source": [
    "# Creating crosstab table shows rating for each user and place\n",
    "places_crosstab = pd.pivot_table(data=rating_df, values='rating',\n",
    "                                 index='userID', columns='placeID')\n",
    "places_crosstab.head()"
   ]
  },
  {
   "cell_type": "code",
   "execution_count": null,
   "metadata": {},
   "outputs": [],
   "source": [
    "# Check user rating at a specific place\n",
    "tortas_ratings = places_crosstab[135085]\n",
    "\n",
    "# Print all user ratings equal or above zero\n",
    "tortas_ratings[tortas_ratings >= 0]"
   ]
  },
  {
   "cell_type": "markdown",
   "metadata": {},
   "source": [
    "### Evaluating Similarity Based on Correlation"
   ]
  },
  {
   "cell_type": "code",
   "execution_count": null,
   "metadata": {},
   "outputs": [],
   "source": [
    "# Calculate the Pearson standard correlation to find similar place like Tortas\n",
    "similar_to_tortas = places_crosstab.corrwith(tortas_ratings)\n",
    "\n",
    "# Create a data frame to store the result\n",
    "corr_tortas = pd.DataFrame(similar_to_tortas, columns=['PearsonR'])\n",
    "corr_tortas.dropna(inplace=True)\n",
    "corr_tortas.head()"
   ]
  },
  {
   "cell_type": "code",
   "execution_count": null,
   "metadata": {},
   "outputs": [],
   "source": [
    "# Create a summary dataframe\n",
    "tortas_corr_summary = corr_tortas.join(rating['rating_count'])\n",
    "tortas_corr_summary[tortas_corr_summary['rating_count'] >= 10].sort_values(\n",
    "    'PearsonR', ascending = False).head(10)"
   ]
  },
  {
   "cell_type": "code",
   "execution_count": null,
   "metadata": {},
   "outputs": [],
   "source": [
    "# Check the top seven placeIDs that are similar to Tortas\n",
    "places_corr_tortas = pd.DataFrame([135085, 132754, 135045, 135062, 135028, 135042, 135046],\n",
    "                                  index=np.arange(7), columns=['placeID'])\n",
    "\n",
    "summary = pd.merge(places_corr_tortas, cuisine, on='placeID')"
   ]
  },
  {
   "cell_type": "code",
   "execution_count": null,
   "metadata": {},
   "outputs": [],
   "source": [
    "# Check the name of the similar restaurant\n",
    "place[place['placeID']==135046]"
   ]
  },
  {
   "cell_type": "code",
   "execution_count": null,
   "metadata": {},
   "outputs": [],
   "source": [
    "cuisine['Rcuisine'].described()"
   ]
  }
 ],
 "metadata": {
  "kernelspec": {
   "display_name": "Python 3",
   "language": "python",
   "name": "python3"
  },
  "language_info": {
   "codemirror_mode": {
    "name": "ipython",
    "version": 3
   },
   "file_extension": ".py",
   "mimetype": "text/x-python",
   "name": "python",
   "nbconvert_exporter": "python",
   "pygments_lexer": "ipython3",
   "version": "3.7.1"
  }
 },
 "nbformat": 4,
 "nbformat_minor": 2
}
